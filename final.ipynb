{
  "nbformat": 4,
  "nbformat_minor": 0,
  "metadata": {
    "colab": {
      "name": "final.ipynb",
      "provenance": [],
      "collapsed_sections": [],
      "mount_file_id": "1hBayA-lN4MkMfFwD7e5hZluDIKzPjAGk",
      "authorship_tag": "ABX9TyOw9BnP8NX5dNuUTBnfwoWS",
      "include_colab_link": true
    },
    "kernelspec": {
      "name": "python3",
      "display_name": "Python 3"
    },
    "accelerator": "GPU"
  },
  "cells": [
    {
      "cell_type": "markdown",
      "metadata": {
        "id": "view-in-github",
        "colab_type": "text"
      },
      "source": [
        "<a href=\"https://colab.research.google.com/github/jgdshkovi/Benn/blob/master/final.ipynb\" target=\"_parent\"><img src=\"https://colab.research.google.com/assets/colab-badge.svg\" alt=\"Open In Colab\"/></a>"
      ]
    },
    {
      "cell_type": "code",
      "metadata": {
        "id": "E-cXhZ9UwMcH",
        "colab_type": "code",
        "colab": {
          "base_uri": "https://localhost:8080/",
          "height": 35
        },
        "outputId": "78a9caea-1279-47e9-8c27-3c3245bcafff"
      },
      "source": [
        "%cd /content/drive/My Drive/Z/filter_pruning"
      ],
      "execution_count": 1,
      "outputs": [
        {
          "output_type": "stream",
          "text": [
            "/content/drive/My Drive/Z/filter_pruning\n"
          ],
          "name": "stdout"
        }
      ]
    },
    {
      "cell_type": "code",
      "metadata": {
        "id": "WXJqX9hswRg6",
        "colab_type": "code",
        "colab": {}
      },
      "source": [
        "import argparse\n",
        "from numpy import unique\n",
        "from numpy import where\n",
        "import numpy as np\n",
        "import os\n",
        "\n",
        "import math\n",
        "import warnings\n",
        "warnings.filterwarnings('ignore')\n",
        "\n",
        "import torch\n",
        "import torch.nn as nn\n",
        "from torch.autograd import Variable\n",
        "from torchvision import datasets, transforms\n",
        "\n",
        "from models import *\n",
        "\n",
        "from scipy.spatial import distance\n",
        "from sklearn.cluster import KMeans\n",
        "from sklearn.decomposition import PCA\n",
        "from sklearn.manifold import TSNE\n",
        "from sklearn.cluster import DBSCAN\n",
        "\n",
        "%matplotlib inline\n",
        "import matplotlib.pyplot as plt\n",
        "from mpl_toolkits.mplot3d import Axes3D\n",
        "from matplotlib import pyplot\n",
        "import seaborn as sns\n"
      ],
      "execution_count": 0,
      "outputs": []
    },
    {
      "cell_type": "code",
      "metadata": {
        "id": "hTh0sNSnxAn6",
        "colab_type": "code",
        "colab": {}
      },
      "source": [
        "test_batch_size = 256\n",
        "dataset = 'cifar10'\n",
        "cfg = [32, 64, 'M', 128, 128, 'M', 256, 256, 256, 'M', 256, 256, 256, 'M', 256, 256, 256]\n",
        "cuda = True"
      ],
      "execution_count": 0,
      "outputs": []
    },
    {
      "cell_type": "code",
      "metadata": {
        "id": "WySSaVRKxIeK",
        "colab_type": "code",
        "colab": {}
      },
      "source": [
        "model = torch.load('L1_logs/model_best.pth.tar')\n",
        "checkpoint = torch.load('L1_logs/checkpoint.pth.tar')"
      ],
      "execution_count": 0,
      "outputs": []
    },
    {
      "cell_type": "code",
      "metadata": {
        "id": "7ySlnU3mxOPD",
        "colab_type": "code",
        "colab": {
          "base_uri": "https://localhost:8080/",
          "height": 35
        },
        "outputId": "ec06248e-6eae-4ee0-b2c9-1cba9dcd5a71"
      },
      "source": [
        "model = vgg(dataset='cifar10', depth=16,cfg=cfg)\n",
        "model.load_state_dict(checkpoint['state_dict'])"
      ],
      "execution_count": 5,
      "outputs": [
        {
          "output_type": "execute_result",
          "data": {
            "text/plain": [
              "<All keys matched successfully>"
            ]
          },
          "metadata": {
            "tags": []
          },
          "execution_count": 5
        }
      ]
    },
    {
      "cell_type": "code",
      "metadata": {
        "id": "JCWXRYhhxUvo",
        "colab_type": "code",
        "colab": {}
      },
      "source": [
        "def test(model):\n",
        "    kwargs = {'num_workers': 1, 'pin_memory': True} if True else {}\n",
        "    if dataset == 'cifar10':\n",
        "        test_loader = torch.utils.data.DataLoader(\n",
        "            datasets.CIFAR10('./data.cifar10', train=False, transform=transforms.Compose([\n",
        "                transforms.ToTensor(),\n",
        "                transforms.Normalize((0.4914, 0.4822, 0.4465), (0.2023, 0.1994, 0.2010))])),\n",
        "            batch_size=test_batch_size, shuffle=True, **kwargs)\n",
        "    elif dataset == 'cifar100':\n",
        "        test_loader = torch.utils.data.DataLoader(\n",
        "            datasets.CIFAR100('./data.cifar100', train=False, transform=transforms.Compose([\n",
        "                transforms.ToTensor(),\n",
        "                transforms.Normalize((0.4914, 0.4822, 0.4465), (0.2023, 0.1994, 0.2010))])),\n",
        "            batch_size=test_batch_size, shuffle=True, **kwargs)\n",
        "    else:\n",
        "        raise ValueError(\"No valid dataset is given.\")\n",
        "    model.eval()\n",
        "    correct = 0\n",
        "    for data, target in test_loader:\n",
        "        if cuda:\n",
        "            data, target = data.cuda(), target.cuda()\n",
        "        data, target = Variable(data, volatile=True), Variable(target)\n",
        "        output = model(data)\n",
        "        pred = output.data.max(1, keepdim=True)[1] # get the index of the max log-probability\n",
        "        correct += pred.eq(target.data.view_as(pred)).cpu().sum()\n",
        "\n",
        "    print('\\nTest set: Accuracy: {}/{} ({:.1f}%)\\n'.format(\n",
        "        correct, len(test_loader.dataset), 100. * correct / len(test_loader.dataset)))\n",
        "    return correct / float(len(test_loader.dataset))"
      ],
      "execution_count": 0,
      "outputs": []
    },
    {
      "cell_type": "code",
      "metadata": {
        "id": "UyN1kLIjxssT",
        "colab_type": "code",
        "colab": {}
      },
      "source": [
        "cos = nn.CosineSimilarity()\n",
        "from collections import defaultdict\n",
        "def list_duplicates(seq):\n",
        "    tally = defaultdict(list)\n",
        "    for i,item in enumerate(seq):\n",
        "        tally[item].append(i)\n",
        "    return ((key,locs) for key,locs in tally.items() if len(locs)>1)\n",
        "\n",
        "\n",
        "def return_mask(wts, labels):\n",
        "\tmodsource = labels.copy()\n",
        "\t#print(wts)\n",
        "\t#print(labels)\n",
        "\tfor dup in sorted(list_duplicates(labels)):\n",
        "\t    #print(dup)\n",
        "\t    lis = dup[1][1:]\n",
        "\t    a = torch.from_numpy(np.reshape(wts[dup[1][0]],(1,wts[dup[1][0]].size)))\n",
        "\t    #a = wts[dup[1][0]]\n",
        "\t    for i in lis:\n",
        "\t    \tb = torch.from_numpy(np.reshape(wts[i],(1,wts[i].size)))\n",
        "\t    \t#print(i)\n",
        "\t    \tsimi = (cos(a,b))\n",
        "\t    \tdis = distance.euclidean(a,b)\n",
        "\t    \t#print(dis)\n",
        "\t    \t#print(simi)\n",
        "\t    \tif simi>0.5:\n",
        "\t    \t  #print('....................')\n",
        "\t    \t  modsource[i] = -1\n",
        "\t#print((modsource))\n",
        "\tmask = []\n",
        "\tfor el in modsource:\n",
        "\t\tif el!=-1:\n",
        "\t\t\tmask.append(1)\n",
        "\t\telse:\n",
        "\t\t\tmask.append(0)\n",
        "\t#print((mask))\n",
        "\treturn mask\n",
        "\n",
        "def return_euc_mask(wts, labels):\n",
        "  modsource = labels.copy()\n",
        "  over = []\n",
        "  for dup in sorted(list_duplicates(labels)):\n",
        "    lis = dup[1]\n",
        "    #print(lis)\n",
        "    liss = []\n",
        "    for i in lis:\n",
        "      for j in lis:\n",
        "        if i!=j:\n",
        "          s = set((i,j))\n",
        "          if s not in over:\n",
        "            over.append(s)\n",
        "            a = wts[i]\n",
        "            b = wts[j]\n",
        "            dis = distance.euclidean(a,b)\n",
        "            liss.append(dis)\n",
        "            #print(a,b,dis)\n",
        "    #print('max;',end='')\n",
        "    #print(max(liss))\n",
        "    #print('min;',end='')\n",
        "    #print(min(liss))\n",
        "    #thres = (min(liss)+max(liss)) /2\n",
        "    #print('thres',end='')\n",
        "    #print(thres)\n",
        "    #print(sorted(liss))\n",
        "    th = np.median(liss)\n",
        "    th = th - th*0.2\n",
        "    #print('thres',end='')\n",
        "    #print(th)\n",
        "    #print(np.median(liss))\n",
        "    #from scipy.stats import gmean\n",
        "    #gm = gmean(liss)\n",
        "    #print(gm)\n",
        "\n",
        "    over = []\n",
        "    for i in lis:\n",
        "      for j in lis:\n",
        "        if i!=j:\n",
        "          if ( modsource[i]!=-2 or modsource[j]!=-2 ):\n",
        "            s = set((i,j))\n",
        "            if s not in over:\n",
        "              over.append(s)\n",
        "              a = wts[i]\n",
        "              b = wts[j]\n",
        "              dis = distance.euclidean(a,b)\n",
        "              if dis<th:\n",
        "                chk = False\n",
        "                if len(lis[lis.index(j):])>1:\n",
        "                  for k in lis[lis.index(j)+1:]:\n",
        "                    if distance.euclidean(b,wts[k])<th:\n",
        "                      chk = True\n",
        "                      break\n",
        "                if chk==False:\n",
        "                  modsource[j]=-2\n",
        "  mask = []\n",
        "  for el in modsource:\n",
        "    if el!=-2:\n",
        "      mask.append(1)\n",
        "    else:\n",
        "      mask.append(0)\n",
        "  #print((mask))\n",
        "  return mask\n",
        "\n",
        "def return_std_euc_mask(wts, labels):\n",
        "  modsource = labels.copy()\n",
        "  for dup in sorted(list_duplicates(labels)):\n",
        "    lis = dup[1][1:]\n",
        "    for i in lis:\n",
        "      modsource[i]=-3\n",
        "  \n",
        "  mask = []\n",
        "  for el in modsource:\n",
        "    if el!=-3:\n",
        "      mask.append(1)\n",
        "    else:\n",
        "      mask.append(0)\n",
        "  return mask\n",
        "  \n",
        "\n",
        "def calc_distance(x1, y1, a, b, c):\n",
        "  d = abs((a * x1 + b * y1 + c)) / (math.sqrt(a * a + b * b))\n",
        "  return d\n",
        "\n",
        "ress = [0]\n",
        "z1 = []\n",
        "z2 = []\n",
        "\n",
        "def optk(X, shp):\n",
        "  global ress,z1,z2\n",
        "  z1 = z2 = []\n",
        "  ress = [0]\n",
        "  maxdis_k = 0\n",
        "  iterations = 20*shp//100\n",
        "  count = 1\n",
        "\n",
        "  dist_points_from_cluster_center = [0]\n",
        "  distance_of_points_from_line = [0]\n",
        "\n",
        "  spt = KMeans(n_clusters=1, random_state=10).fit(X)\n",
        "  ept = KMeans(n_clusters=shp, random_state=10).fit(X)\n",
        "\n",
        "  a = spt.inertia_ - ept.inertia_\n",
        "  b = shp - 1\n",
        "  c1 = 1 * ept.inertia_\n",
        "  c2 = shp * spt.inertia_\n",
        "  c = c1 - c2\n",
        "  #print(a,b,c)\n",
        "  z1.append(0)\n",
        "  ress.append(spt.labels_)\n",
        "  dist_points_from_cluster_center.append(spt.inertia_)\n",
        "  distance_of_points_from_line.append(\n",
        "        calc_distance(1, dist_points_from_cluster_center[1], a, b, c))\n",
        "  z1.append(1)\n",
        "\n",
        "  for k in range(2,shp):\n",
        "    if count<iterations:\n",
        "      res = KMeans(n_clusters=k, random_state=10).fit(X)\n",
        "      ress.append(res.labels_)\n",
        "      dist_points_from_cluster_center.append(res.inertia_)\n",
        "      dis = calc_distance(k, dist_points_from_cluster_center[k], a, b, c)\n",
        "      distance_of_points_from_line.append(dis)\n",
        "      z1.append(k)\n",
        "      if dis > distance_of_points_from_line[maxdis_k]:\n",
        "        maxdis_k = k\n",
        "        count = 0\n",
        "      else:\n",
        "        count += 1\n",
        "    else:\n",
        "      break\n",
        "\n",
        "  ress.append(ept.labels_)\n",
        "  dist_points_from_cluster_center.append(ept.inertia_)\n",
        "  distance_of_points_from_line.append(\n",
        "        calc_distance(shp, dist_points_from_cluster_center[-1], a, b, c))\n",
        "  z1.append(shp)\n",
        "  z2 = dist_points_from_cluster_center\n",
        "  #plt.plot(list(range(1,shp+1)),dist_points_from_cluster_center)\n",
        "  return maxdis_k\n",
        "\n",
        "def return_std_labels(X,shp):\n",
        "  res = KMeans(n_clusters=shp//2, random_state=10).fit(X)\n",
        "  return res.labels_\n",
        "\n",
        "def return_cluster_labels(feat_wts, shp):\n",
        "  k = optk(feat_wts, shp)\n",
        "  print('opt k:',end='')\n",
        "  print(k)\n",
        "  return ress[k] "
      ],
      "execution_count": 0,
      "outputs": []
    },
    {
      "cell_type": "code",
      "metadata": {
        "id": "RyW2Tw584byI",
        "colab_type": "code",
        "colab": {}
      },
      "source": [
        "def formclus(X, noc):\n",
        "  mod = KMeans(n_clusters=noc)\n",
        "  mod.fit(X)\n",
        "  yhat = mod.predict(X)\n",
        "  clusters = unique(yhat)\n",
        "  for cluster in clusters:\n",
        "    row_ix = where(yhat == cluster)\n",
        "    pyplot.scatter(X[row_ix, 0], X[row_ix, 1])"
      ],
      "execution_count": 0,
      "outputs": []
    },
    {
      "cell_type": "code",
      "metadata": {
        "id": "gogOdYi0xUra",
        "colab_type": "code",
        "colab": {}
      },
      "source": [
        "def applyTSNE(X):\n",
        "  shp = X.shape[1]\n",
        "  if shp<50:\n",
        "    noc = shp\n",
        "  else:\n",
        "    noc = 50\n",
        "  pca50 = PCA(n_components=noc)\n",
        "  pca50res = pca50.fit_transform(X)\n",
        "  fashion_pca_tsne = TSNE(random_state=10).fit_transform(pca50res)\n",
        "  xs = fashion_pca_tsne[:,0]\n",
        "  ys = fashion_pca_tsne[:,1]\n",
        "\n",
        "  Y = []\n",
        "  for x,y in zip(xs,ys):\n",
        "\t  Y.append([x,y])\n",
        "  Y = np.array(Y)\n",
        "  return Y\n",
        "\n",
        "  #find opt k here\n",
        "  formclus(Y, noc=k)\n",
        "  plt.show()"
      ],
      "execution_count": 0,
      "outputs": []
    },
    {
      "cell_type": "code",
      "metadata": {
        "id": "ZhW-I5LsxUhJ",
        "colab_type": "code",
        "colab": {
          "base_uri": "https://localhost:8080/",
          "height": 893
        },
        "outputId": "41e1bbb5-c789-496d-d088-b52e0166d89d"
      },
      "source": [
        "cos_cfg = []\n",
        "cfg_mask = []\n",
        "layer_id = 0\n",
        "for m in model.modules():\n",
        "  if isinstance(m , nn.Conv2d):\n",
        "    shape = m.weight.data.shape\n",
        "    print(shape)\n",
        "    reshaped_tensor = m.weight.data.clone().numpy().reshape(shape[0] , shape[1]*shape[2]*shape[3])\n",
        "    \n",
        "    Y = applyTSNE(reshaped_tensor)\n",
        "\n",
        "    #labels = return_cluster_labels(Y,shape[0])  #filtered_cfg[layer_id])\n",
        "    labels = return_std_labels(reshaped_tensor,shape[0])\n",
        "    mask = return_std_euc_mask(Y, labels)\n",
        "    #break\n",
        "    #mask = return_mask(Y,labels)\n",
        "    #print(mask)\n",
        "    #print('no of labels:',end='')\n",
        "    k = len(set(labels))\n",
        "    #print(len(set(labels)))\n",
        "    print('mask len:',end='')\n",
        "    print(sum(mask))\n",
        "    cos_cfg.append(sum(mask))\n",
        "    cfg_mask.append(torch.tensor(mask))\n",
        "    \n",
        "    formclus(Y, noc=k)\n",
        "    plt.show()\n",
        "\n",
        "    layer_id += 1\n",
        "    #break\n",
        "    \n",
        "  elif isinstance(m, nn.MaxPool2d):\n",
        "    layer_id += 1\n",
        "    cos_cfg.append('M')\n",
        "  if layer_id>3:\n",
        "    break\n",
        "print(cos_cfg)"
      ],
      "execution_count": 105,
      "outputs": [
        {
          "output_type": "stream",
          "text": [
            "torch.Size([32, 3, 3, 3])\n",
            "mask len:16\n"
          ],
          "name": "stdout"
        },
        {
          "output_type": "display_data",
          "data": {
            "image/png": "[encoded data removed]",
            "text/plain": [
              "<Figure size 432x288 with 1 Axes>"
            ]
          },
          "metadata": {
            "tags": [],
            "needs_background": "light"
          }
        },
        {
          "output_type": "stream",
          "text": [
            "torch.Size([64, 32, 3, 3])\n",
            "mask len:32\n"
          ],
          "name": "stdout"
        },
        {
          "output_type": "display_data",
          "data": {
            "image/png": "[encoded data removed]",
            "text/plain": [
              "<Figure size 432x288 with 1 Axes>"
            ]
          },
          "metadata": {
            "tags": [],
            "needs_background": "light"
          }
        },
        {
          "output_type": "stream",
          "text": [
            "torch.Size([128, 64, 3, 3])\n",
            "mask len:64\n"
          ],
          "name": "stdout"
        },
        {
          "output_type": "display_data",
          "data": {
            "image/png": "[encoded data removed]",
            "text/plain": [
              "<Figure size 432x288 with 1 Axes>"
            ]
          },
          "metadata": {
            "tags": [],
            "needs_background": "light"
          }
        },
        {
          "output_type": "stream",
          "text": [
            "[16, 32, 'M', 64]\n"
          ],
          "name": "stdout"
        }
      ]
    },
    {
      "cell_type": "code",
      "metadata": {
        "id": "eRTY9FjuxtWD",
        "colab_type": "code",
        "colab": {}
      },
      "source": [
        "[24, 46, 'M', 105, 102, 'M', 213, 219, 217, 'M', 218, 217, 213, 'M', 231, 223, 228]\n",
        "[29, 46, 'M', 93] 0.2\n",
        "[24, 46, 'M', 99]\n",
        "[16, 24, 'M', 40]\n",
        "[22, 43, 'M', 108]"
      ],
      "execution_count": 0,
      "outputs": []
    },
    {
      "cell_type": "code",
      "metadata": {
        "id": "6LGyCx3wxtR8",
        "colab_type": "code",
        "colab": {}
      },
      "source": [
        ""
      ],
      "execution_count": 0,
      "outputs": []
    }
  ]
}